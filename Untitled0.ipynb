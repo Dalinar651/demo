{
  "nbformat": 4,
  "nbformat_minor": 0,
  "metadata": {
    "colab": {
      "name": "Untitled0.ipynb",
      "provenance": [],
      "authorship_tag": "ABX9TyMvtq0Q8Lu+yDNTXEjqNwb2",
      "include_colab_link": true
    },
    "kernelspec": {
      "name": "python3",
      "display_name": "Python 3"
    },
    "accelerator": "GPU"
  },
  "cells": [
    {
      "cell_type": "markdown",
      "metadata": {
        "id": "view-in-github",
        "colab_type": "text"
      },
      "source": [
        "<a href=\"https://colab.research.google.com/github/Dalinar651/demo/blob/main/Untitled0.ipynb\" target=\"_parent\"><img src=\"https://colab.research.google.com/assets/colab-badge.svg\" alt=\"Open In Colab\"/></a>"
      ]
    },
    {
      "cell_type": "code",
      "metadata": {
        "colab": {
          "base_uri": "https://localhost:8080/"
        },
        "id": "gHm25vTqatPi",
        "outputId": "6dd821a7-22c0-466a-e70a-2041c92229f2"
      },
      "source": [
        "total_time=''\r\n",
        "intersection=\"\"\r\n",
        "streets=''\r\n",
        "cars=\"\"\r\n",
        "index=0\r\n",
        "master_dic=dict()\r\n",
        "routes=list()\r\n",
        "var=input(\"Enter the filename: \")\r\n",
        "from tqdm import tqdm\r\n",
        "\r\n",
        "with open(var + \".txt\") as fh:\r\n",
        "\tfor line in tqdm(fh):\r\n",
        "\t\ttemp_list=line.strip().split()\r\n",
        "\t\tif index==0:\r\n",
        "\t\t\ttotal_time=int(temp_list[0])\r\n",
        "\t\t\tintersection=int(temp_list[1])\r\n",
        "\t\t\tstreets=int(temp_list[2])\r\n",
        "\t\t\tcars=int(temp_list[3])\r\n",
        "\t\telif index>0 and index<=streets:\r\n",
        "\t\t\ttemp_lis=[]\r\n",
        "\t\t\ttemp_lis.append(temp_list[0])\r\n",
        "\t\t\ttemp_lis.append(temp_list[1])\r\n",
        "\t\t\ttemp_lis.append(temp_list[3])\r\n",
        "\t\t\tmaster_dic[temp_list[2]]=temp_lis\r\n",
        "\t\telse:\r\n",
        "\t\t\ttemp_list2=list()\r\n",
        "\t\t\tfor i in range(1,(int(temp_list[0])+1)):\r\n",
        "\t\t\t\ttemp_list2.append(temp_list[i])\r\n",
        "\t\t\troutes.append(temp_list2)\r\n",
        "\t\tindex=index+1\r\n",
        "\r\n",
        "index=0\r\n",
        "\r\n",
        "\r\n",
        "\r\n",
        "master_interaction=list()\r\n",
        "for route in tqdm(routes):\r\n",
        "\tnode=list()\r\n",
        "\ttime=0\r\n",
        "\tfor index in range(0,(len(route)-1)):\r\n",
        "\t\tif index==0:\r\n",
        "\t\t\tnode.append(master_dic[route[index]][1])\r\n",
        "\t\t\tif (master_dic[route[index]][1]) not in master_interaction:\r\n",
        "\t\t\t\tmaster_interaction.append(master_dic[route[index]][1])\r\n",
        "\t\telse:\r\n",
        "\t\t\tnode.append(master_dic[route[index]][1])\r\n",
        "\t\t\ttime+=int(master_dic[route[index]][2])\r\n",
        "\t\t\tif (master_dic[route[index]][1]) not in master_interaction:\r\n",
        "\t\t\t\tmaster_interaction.append(master_dic[route[index]][1])\r\n",
        "\ttime+=int(master_dic[route[(len(route)-1)]][2])\r\n",
        "\r\n",
        "\r\n",
        "incoming=[0]*intersection\r\n",
        "street=list()\r\n",
        "for i in tqdm(range(intersection)):\r\n",
        "\tstreet.append([])\r\n",
        "for keys in tqdm(master_dic):\r\n",
        "\tfor i in range(intersection):\r\n",
        "\t\tif int(master_dic[keys][1])==i:\r\n",
        "\t\t\tincoming[i]+=1\r\n",
        "\t\t\tstreet[i].append(keys)\r\n",
        "\r\n",
        "\r\n",
        "f1=open(var+\"_output.txt\",\"w+\")\r\n",
        "\r\n",
        "f1.writelines((str(len(master_interaction)),'\\n'))\r\n",
        "for i in tqdm(range(len(master_interaction))):\r\n",
        "    f1.writelines(str(master_interaction[i])+'\\n')\r\n",
        "    f1.writelines(str(incoming[int(master_interaction[i])])+'\\n')\r\n",
        "    for i2 in street[int(master_interaction[i])]:\r\n",
        "    \tf1.writelines(str(i2)+' ')\r\n",
        "    \tf1.writelines(str(incoming[int(master_interaction[i])])+'\\n')\r\n",
        "f1.close()\r\n",
        "\r\n",
        "\r\n",
        "\r\n"
      ],
      "execution_count": null,
      "outputs": [
        {
          "output_type": "stream",
          "text": [
            "Enter the filename: c\n"
          ],
          "name": "stdout"
        },
        {
          "output_type": "stream",
          "text": [
            "36031it [00:00, 227659.90it/s]\n",
            "100%|██████████| 1000/1000 [00:05<00:00, 184.15it/s]\n",
            "100%|██████████| 10000/10000 [00:00<00:00, 877194.19it/s]\n",
            "100%|██████████| 35030/35030 [02:05<00:00, 280.12it/s]\n",
            "100%|██████████| 7660/7660 [00:00<00:00, 26782.28it/s]\n"
          ],
          "name": "stderr"
        }
      ]
    },
    {
      "cell_type": "code",
      "metadata": {
        "colab": {
          "base_uri": "https://localhost:8080/",
          "height": 17
        },
        "id": "1Zn8xAd6gRdn",
        "outputId": "a170375e-eb0c-4d86-b1b5-ded567a6c13c"
      },
      "source": [
        "files.download(\"/content/c_output.txt\")"
      ],
      "execution_count": null,
      "outputs": [
        {
          "output_type": "display_data",
          "data": {
            "application/javascript": [
              "\n",
              "    async function download(id, filename, size) {\n",
              "      if (!google.colab.kernel.accessAllowed) {\n",
              "        return;\n",
              "      }\n",
              "      const div = document.createElement('div');\n",
              "      const label = document.createElement('label');\n",
              "      label.textContent = `Downloading \"${filename}\": `;\n",
              "      div.appendChild(label);\n",
              "      const progress = document.createElement('progress');\n",
              "      progress.max = size;\n",
              "      div.appendChild(progress);\n",
              "      document.body.appendChild(div);\n",
              "\n",
              "      const buffers = [];\n",
              "      let downloaded = 0;\n",
              "\n",
              "      const channel = await google.colab.kernel.comms.open(id);\n",
              "      // Send a message to notify the kernel that we're ready.\n",
              "      channel.send({})\n",
              "\n",
              "      for await (const message of channel.messages) {\n",
              "        // Send a message to notify the kernel that we're ready.\n",
              "        channel.send({})\n",
              "        if (message.buffers) {\n",
              "          for (const buffer of message.buffers) {\n",
              "            buffers.push(buffer);\n",
              "            downloaded += buffer.byteLength;\n",
              "            progress.value = downloaded;\n",
              "          }\n",
              "        }\n",
              "      }\n",
              "      const blob = new Blob(buffers, {type: 'application/binary'});\n",
              "      const a = document.createElement('a');\n",
              "      a.href = window.URL.createObjectURL(blob);\n",
              "      a.download = filename;\n",
              "      div.appendChild(a);\n",
              "      a.click();\n",
              "      div.remove();\n",
              "    }\n",
              "  "
            ],
            "text/plain": [
              "<IPython.core.display.Javascript object>"
            ]
          },
          "metadata": {
            "tags": []
          }
        },
        {
          "output_type": "display_data",
          "data": {
            "application/javascript": [
              "download(\"download_52784c67-882e-4ff3-9c4c-b37e3b032887\", \"c_output.txt\", 370168)"
            ],
            "text/plain": [
              "<IPython.core.display.Javascript object>"
            ]
          },
          "metadata": {
            "tags": []
          }
        }
      ]
    },
    {
      "cell_type": "code",
      "metadata": {
        "id": "AKm_UM9Sghow"
      },
      "source": [
        "from google.colab import files"
      ],
      "execution_count": null,
      "outputs": []
    },
    {
      "cell_type": "code",
      "metadata": {
        "id": "VKAR6Lkag1Qy"
      },
      "source": [
        ""
      ],
      "execution_count": null,
      "outputs": []
    }
  ]
}